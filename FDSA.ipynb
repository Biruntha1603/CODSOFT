{
 "cells": [
  {
   "cell_type": "code",
   "execution_count": 7,
   "id": "b7b53e20-884c-4c6a-9ff4-207369545194",
   "metadata": {},
   "outputs": [
    {
     "name": "stdin",
     "output_type": "stream",
     "text": [
      "Enter IP to resolve:   192.168.1.1\n"
     ]
    },
    {
     "name": "stdout",
     "output_type": "stream",
     "text": [
      "No MAC found for 192.168.1.1.\n"
     ]
    }
   ],
   "source": [
    "import scapy.all as scapy\n",
    "import sys\n",
    "\n",
    "def arp_resolve_short(ip_target): \n",
    "    try:\n",
    "        ans, unans = scapy.srp(scapy.Ether(dst=\"ff:ff:ff:ff:ff:ff\")/scapy.ARP(pdst=ip_target), timeout=1, verbose=0)\n",
    "        return ans[0][1].hwsrc if ans else None \n",
    "    except Exception as e: return None \n",
    "\n",
    "if __name__ == \"__main__\":\n",
    "    ip = input(\"Enter IP to resolve: \") \n",
    "    mac = arp_resolve_short(ip.strip()) \n",
    "    print(f\"MAC for {ip.strip()}: {mac}\") if mac else print(f\"No MAC found for {ip.strip()}.\") \n",
    "    "
   ]
  }
 ],
 "metadata": {
  "kernelspec": {
   "display_name": "anaconda-panel-2023.05-py310",
   "language": "python",
   "name": "conda-env-anaconda-panel-2023.05-py310-py"
  },
  "language_info": {
   "codemirror_mode": {
    "name": "ipython",
    "version": 3
   },
   "file_extension": ".py",
   "mimetype": "text/x-python",
   "name": "python",
   "nbconvert_exporter": "python",
   "pygments_lexer": "ipython3",
   "version": "3.11.5"
  }
 },
 "nbformat": 4,
 "nbformat_minor": 5
}
